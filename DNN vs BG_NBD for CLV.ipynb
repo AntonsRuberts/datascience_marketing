{
 "cells": [
  {
   "cell_type": "markdown",
   "metadata": {},
   "source": [
    "# ML vs Statistical Approach for CLV"
   ]
  },
  {
   "cell_type": "code",
   "execution_count": 2093,
   "metadata": {},
   "outputs": [],
   "source": [
    "import pandas as pd\n",
    "import numpy as np\n",
    "from datetime import datetime\n",
    "\n",
    "#Statistical LTV\n",
    "from lifetimes import BetaGeoFitter, GammaGammaFitter\n",
    "from lifetimes.utils import calibration_and_holdout_data, summary_data_from_transaction_data\n",
    "\n",
    "#ML Approach to LTV\n",
    "import tensorflow as tf\n",
    "from tensorflow import keras\n",
    "from tensorflow.keras import layers\n",
    "\n",
    "#Evaluation\n",
    "from sklearn.metrics import r2_score\n",
    "from sklearn.metrics import mean_absolute_error\n",
    "\n",
    "#Plotting\n",
    "import matplotlib.pyplot as plt\n",
    "import seaborn as sns"
   ]
  },
  {
   "cell_type": "markdown",
   "metadata": {},
   "source": [
    "## Data"
   ]
  },
  {
   "cell_type": "code",
   "execution_count": 7,
   "metadata": {},
   "outputs": [],
   "source": [
    "# Make the default figures a bit bigger\n",
    "plt.rcParams['figure.figsize'] = (10,7) "
   ]
  },
  {
   "cell_type": "code",
   "execution_count": 2094,
   "metadata": {},
   "outputs": [],
   "source": [
    "data = pd.read_csv('CLV_raw.csv', engine='python')\n",
    "data['InvoiceDate'] = pd.to_datetime(data.InvoiceDate, format = '%d/%m/%Y %H:%M')"
   ]
  },
  {
   "cell_type": "code",
   "execution_count": 2096,
   "metadata": {},
   "outputs": [],
   "source": [
    "data['date'] = pd.to_datetime(data.InvoiceDate.dt.date)\n",
    "data['time'] = data.InvoiceDate.dt.time\n",
    "data['hour'] = data['time'].apply(lambda x: x.hour)\n",
    "data['weekend'] = data['date'].apply(lambda x: x.weekday() in [5, 6])\n",
    "data['dayofweek'] = data['date'].apply(lambda x: x.dayofweek)"
   ]
  },
  {
   "cell_type": "code",
   "execution_count": 2100,
   "metadata": {},
   "outputs": [
    {
     "data": {
      "text/html": [
       "<div>\n",
       "<style scoped>\n",
       "    .dataframe tbody tr th:only-of-type {\n",
       "        vertical-align: middle;\n",
       "    }\n",
       "\n",
       "    .dataframe tbody tr th {\n",
       "        vertical-align: top;\n",
       "    }\n",
       "\n",
       "    .dataframe thead th {\n",
       "        text-align: right;\n",
       "    }\n",
       "</style>\n",
       "<table border=\"1\" class=\"dataframe\">\n",
       "  <thead>\n",
       "    <tr style=\"text-align: right;\">\n",
       "      <th></th>\n",
       "      <th>InvoiceNo</th>\n",
       "      <th>StockCode</th>\n",
       "      <th>Description</th>\n",
       "      <th>Quantity</th>\n",
       "      <th>InvoiceDate</th>\n",
       "      <th>UnitPrice</th>\n",
       "      <th>CustomerID</th>\n",
       "      <th>Country</th>\n",
       "      <th>date</th>\n",
       "      <th>time</th>\n",
       "      <th>hour</th>\n",
       "      <th>weekend</th>\n",
       "      <th>dayofweek</th>\n",
       "    </tr>\n",
       "  </thead>\n",
       "  <tbody>\n",
       "    <tr>\n",
       "      <th>485148</th>\n",
       "      <td>577554</td>\n",
       "      <td>22114</td>\n",
       "      <td>HOT WATER BOTTLE TEA AND SYMPATHY</td>\n",
       "      <td>2</td>\n",
       "      <td>2011-11-20 15:35:00</td>\n",
       "      <td>4.25</td>\n",
       "      <td>15533.0</td>\n",
       "      <td>United Kingdom</td>\n",
       "      <td>2011-11-20</td>\n",
       "      <td>15:35:00</td>\n",
       "      <td>15</td>\n",
       "      <td>True</td>\n",
       "      <td>6</td>\n",
       "    </tr>\n",
       "    <tr>\n",
       "      <th>458411</th>\n",
       "      <td>575837</td>\n",
       "      <td>22998</td>\n",
       "      <td>TRAVEL CARD WALLET KEEP CALM</td>\n",
       "      <td>24</td>\n",
       "      <td>2011-11-11 11:37:00</td>\n",
       "      <td>0.42</td>\n",
       "      <td>12748.0</td>\n",
       "      <td>United Kingdom</td>\n",
       "      <td>2011-11-11</td>\n",
       "      <td>11:37:00</td>\n",
       "      <td>11</td>\n",
       "      <td>False</td>\n",
       "      <td>4</td>\n",
       "    </tr>\n",
       "    <tr>\n",
       "      <th>513868</th>\n",
       "      <td>579605</td>\n",
       "      <td>22555</td>\n",
       "      <td>PLASTERS IN TIN STRONGMAN</td>\n",
       "      <td>6</td>\n",
       "      <td>2011-11-30 12:01:00</td>\n",
       "      <td>1.65</td>\n",
       "      <td>15024.0</td>\n",
       "      <td>United Kingdom</td>\n",
       "      <td>2011-11-30</td>\n",
       "      <td>12:01:00</td>\n",
       "      <td>12</td>\n",
       "      <td>False</td>\n",
       "      <td>2</td>\n",
       "    </tr>\n",
       "    <tr>\n",
       "      <th>473334</th>\n",
       "      <td>576828</td>\n",
       "      <td>22450</td>\n",
       "      <td>SILK PURSE BABUSHKA BLUE</td>\n",
       "      <td>1</td>\n",
       "      <td>2011-11-16 14:36:00</td>\n",
       "      <td>3.35</td>\n",
       "      <td>NaN</td>\n",
       "      <td>United Kingdom</td>\n",
       "      <td>2011-11-16</td>\n",
       "      <td>14:36:00</td>\n",
       "      <td>14</td>\n",
       "      <td>False</td>\n",
       "      <td>2</td>\n",
       "    </tr>\n",
       "    <tr>\n",
       "      <th>178408</th>\n",
       "      <td>552232</td>\n",
       "      <td>22489</td>\n",
       "      <td>PACK OF 12 TRADITIONAL CRAYONS</td>\n",
       "      <td>2</td>\n",
       "      <td>2011-05-06 15:54:00</td>\n",
       "      <td>0.83</td>\n",
       "      <td>NaN</td>\n",
       "      <td>United Kingdom</td>\n",
       "      <td>2011-05-06</td>\n",
       "      <td>15:54:00</td>\n",
       "      <td>15</td>\n",
       "      <td>False</td>\n",
       "      <td>4</td>\n",
       "    </tr>\n",
       "  </tbody>\n",
       "</table>\n",
       "</div>"
      ],
      "text/plain": [
       "       InvoiceNo StockCode                        Description  Quantity  \\\n",
       "485148    577554     22114  HOT WATER BOTTLE TEA AND SYMPATHY         2   \n",
       "458411    575837     22998       TRAVEL CARD WALLET KEEP CALM        24   \n",
       "513868    579605     22555          PLASTERS IN TIN STRONGMAN         6   \n",
       "473334    576828     22450           SILK PURSE BABUSHKA BLUE         1   \n",
       "178408    552232     22489     PACK OF 12 TRADITIONAL CRAYONS         2   \n",
       "\n",
       "               InvoiceDate  UnitPrice  CustomerID         Country       date  \\\n",
       "485148 2011-11-20 15:35:00       4.25     15533.0  United Kingdom 2011-11-20   \n",
       "458411 2011-11-11 11:37:00       0.42     12748.0  United Kingdom 2011-11-11   \n",
       "513868 2011-11-30 12:01:00       1.65     15024.0  United Kingdom 2011-11-30   \n",
       "473334 2011-11-16 14:36:00       3.35         NaN  United Kingdom 2011-11-16   \n",
       "178408 2011-05-06 15:54:00       0.83         NaN  United Kingdom 2011-05-06   \n",
       "\n",
       "            time  hour  weekend  dayofweek  \n",
       "485148  15:35:00    15     True          6  \n",
       "458411  11:37:00    11    False          4  \n",
       "513868  12:01:00    12    False          2  \n",
       "473334  14:36:00    14    False          2  \n",
       "178408  15:54:00    15    False          4  "
      ]
     },
     "execution_count": 2100,
     "metadata": {},
     "output_type": "execute_result"
    }
   ],
   "source": [
    "data.sample(5)"
   ]
  },
  {
   "cell_type": "code",
   "execution_count": 2101,
   "metadata": {},
   "outputs": [
    {
     "name": "stdout",
     "output_type": "stream",
     "text": [
      "373 days 00:00:00\n"
     ]
    },
    {
     "data": {
      "image/png": "[encoded data removed]",
      "text/plain": [
       "<Figure size 720x504 with 1 Axes>"
      ]
     },
     "metadata": {
      "needs_background": "light"
     },
     "output_type": "display_data"
    }
   ],
   "source": [
    "data.groupby('date')['Quantity'].sum().plot()\n",
    "print(data['date'].max() - data['date'].min())"
   ]
  },
  {
   "cell_type": "markdown",
   "metadata": {},
   "source": [
    "So, I have around 1 year of data. Because the ML approach requires time periods for feature creation, training targets, and validation targets, I'll split it into the following segments:\n",
    "1. Training Features Period - from 2011-01-01 until 2011-06-11\n",
    "2. Training Target Period - from 2011-06-12 until 2011-09-09\n",
    "3. Testing Features Period - from 2011-04-02 until 2011-09-10\n",
    "4. Testing Target Period - from 2011-09-11 until 2011-12-09"
   ]
  },
  {
   "cell_type": "code",
   "execution_count": 2106,
   "metadata": {},
   "outputs": [
    {
     "name": "stdout",
     "output_type": "stream",
     "text": [
      "Total Number of Purchases: 541909\n",
      "Total Number of transactions: 25900\n",
      "Total Unique Days: 305\n",
      "Total Unique Customers: 4372\n",
      "We are predicting 89 days\n"
     ]
    }
   ],
   "source": [
    "#Dataset info\n",
    "print(f'Total Number of Purchases: {data.shape[0]}')\n",
    "print(f'Total Number of transactions: {data.InvoiceNo.nunique()}')\n",
    "print(f'Total Unique Days: {data.date.nunique()}')\n",
    "print(f'Total Unique Customers: {data.CustomerID.nunique()}')\n",
    "print(f\"We are predicting {(data['date'].max() - datetime(2011, 9, 11)).days} days\")"
   ]
  },
  {
   "cell_type": "markdown",
   "metadata": {},
   "source": [
    "## Baseline: BG/NBD + Gamma-Gamma model\n",
    "\n",
    "BG/NDB and Gamma-Gamma models are statistical models that model the purchasing behaviour (transactions and the average order value) by fitting different types of distributions. This type of modelling requires the data on transaction level, so let's first aggregate the dataset by the invoice. I'll be aggregating the transactional revenue which is simply calculated as the quantity times the item price."
   ]
  },
  {
   "cell_type": "markdown",
   "metadata": {},
   "source": [
    "### Data Prep"
   ]
  },
  {
   "cell_type": "code",
   "execution_count": 2109,
   "metadata": {},
   "outputs": [],
   "source": [
    "#Get revenue column\n",
    "data['Revenue'] = data['Quantity'] * data['UnitPrice']\n",
    "\n",
    "#Context data for the revenue (date & customerID)\n",
    "id_lookup = data[['CustomerID', 'InvoiceNo', 'date']].drop_duplicates()\n",
    "id_lookup.index = id_lookup['InvoiceNo']\n",
    "id_lookup = id_lookup.drop('InvoiceNo', axis=1)\n",
    "\n",
    "transactions_data = pd.DataFrame(data.groupby('InvoiceNo')['Revenue'].sum()).join(id_lookup)"
   ]
  },
  {
   "cell_type": "code",
   "execution_count": 2110,
   "metadata": {},
   "outputs": [
    {
     "data": {
      "text/html": [
       "<div>\n",
       "<style scoped>\n",
       "    .dataframe tbody tr th:only-of-type {\n",
       "        vertical-align: middle;\n",
       "    }\n",
       "\n",
       "    .dataframe tbody tr th {\n",
       "        vertical-align: top;\n",
       "    }\n",
       "\n",
       "    .dataframe thead th {\n",
       "        text-align: right;\n",
       "    }\n",
       "</style>\n",
       "<table border=\"1\" class=\"dataframe\">\n",
       "  <thead>\n",
       "    <tr style=\"text-align: right;\">\n",
       "      <th></th>\n",
       "      <th>Revenue</th>\n",
       "      <th>CustomerID</th>\n",
       "      <th>date</th>\n",
       "    </tr>\n",
       "    <tr>\n",
       "      <th>InvoiceNo</th>\n",
       "      <th></th>\n",
       "      <th></th>\n",
       "      <th></th>\n",
       "    </tr>\n",
       "  </thead>\n",
       "  <tbody>\n",
       "    <tr>\n",
       "      <th>536365</th>\n",
       "      <td>139.12</td>\n",
       "      <td>17850.0</td>\n",
       "      <td>2010-12-01</td>\n",
       "    </tr>\n",
       "    <tr>\n",
       "      <th>536366</th>\n",
       "      <td>22.20</td>\n",
       "      <td>17850.0</td>\n",
       "      <td>2010-12-01</td>\n",
       "    </tr>\n",
       "    <tr>\n",
       "      <th>536367</th>\n",
       "      <td>278.73</td>\n",
       "      <td>13047.0</td>\n",
       "      <td>2010-12-01</td>\n",
       "    </tr>\n",
       "    <tr>\n",
       "      <th>536368</th>\n",
       "      <td>70.05</td>\n",
       "      <td>13047.0</td>\n",
       "      <td>2010-12-01</td>\n",
       "    </tr>\n",
       "    <tr>\n",
       "      <th>536369</th>\n",
       "      <td>17.85</td>\n",
       "      <td>13047.0</td>\n",
       "      <td>2010-12-01</td>\n",
       "    </tr>\n",
       "  </tbody>\n",
       "</table>\n",
       "</div>"
      ],
      "text/plain": [
       "           Revenue  CustomerID       date\n",
       "InvoiceNo                                \n",
       "536365      139.12     17850.0 2010-12-01\n",
       "536366       22.20     17850.0 2010-12-01\n",
       "536367      278.73     13047.0 2010-12-01\n",
       "536368       70.05     13047.0 2010-12-01\n",
       "536369       17.85     13047.0 2010-12-01"
      ]
     },
     "execution_count": 2110,
     "metadata": {},
     "output_type": "execute_result"
    }
   ],
   "source": [
    "transactions_data.head()"
   ]
  },
  {
   "cell_type": "code",
   "execution_count": 1570,
   "metadata": {},
   "outputs": [],
   "source": [
    "\n",
    "# #predict revenue of only those that have purchased in the specified period for comparisonrelevant_ids = transactions_data.loc[(pd.to_datetime(transactions_data.date) >='2011-03-09') &(pd.to_datetime(transactions_data.date) <= '2011-09-10'), 'CustomerID'].unique()\n",
    "# relevant_transations = transactions_data.loc[transactions_data['CustomerID'].isin(relevant_ids), :]"
   ]
  },
  {
   "cell_type": "markdown",
   "metadata": {},
   "source": [
    "`lifetimes` package has a utility function to split the data and aggregate the features into RFM format. So here, I'm going to use it to save some time, but if the data is large, it makes sense to do this yourselve."
   ]
  },
  {
   "cell_type": "code",
   "execution_count": 2111,
   "metadata": {},
   "outputs": [],
   "source": [
    "#Spit into train - test\n",
    "rfm_train_test = calibration_and_holdout_data(transactions_data, 'CustomerID', 'date',\n",
    "                                        calibration_period_end='2011-09-10',\n",
    "                                        monetary_value_col = 'Revenue')   \n",
    "\n",
    "#Selecting only customers with positive value in the calibration period (otherwise Gamma-Gamma model doesn't work)\n",
    "rfm_train_test = rfm_train_test.loc[rfm_train_test['monetary_value_cal'] > 0, :]"
   ]
  },
  {
   "cell_type": "code",
   "execution_count": 2112,
   "metadata": {},
   "outputs": [
    {
     "name": "stdout",
     "output_type": "stream",
     "text": [
      "(1965, 7)\n"
     ]
    },
    {
     "data": {
      "text/html": [
       "<div>\n",
       "<style scoped>\n",
       "    .dataframe tbody tr th:only-of-type {\n",
       "        vertical-align: middle;\n",
       "    }\n",
       "\n",
       "    .dataframe tbody tr th {\n",
       "        vertical-align: top;\n",
       "    }\n",
       "\n",
       "    .dataframe thead th {\n",
       "        text-align: right;\n",
       "    }\n",
       "</style>\n",
       "<table border=\"1\" class=\"dataframe\">\n",
       "  <thead>\n",
       "    <tr style=\"text-align: right;\">\n",
       "      <th></th>\n",
       "      <th>frequency_cal</th>\n",
       "      <th>recency_cal</th>\n",
       "      <th>T_cal</th>\n",
       "      <th>monetary_value_cal</th>\n",
       "      <th>frequency_holdout</th>\n",
       "      <th>monetary_value_holdout</th>\n",
       "      <th>duration_holdout</th>\n",
       "    </tr>\n",
       "    <tr>\n",
       "      <th>CustomerID</th>\n",
       "      <th></th>\n",
       "      <th></th>\n",
       "      <th></th>\n",
       "      <th></th>\n",
       "      <th></th>\n",
       "      <th></th>\n",
       "      <th></th>\n",
       "    </tr>\n",
       "  </thead>\n",
       "  <tbody>\n",
       "    <tr>\n",
       "      <th>12347.0</th>\n",
       "      <td>4.0</td>\n",
       "      <td>238.0</td>\n",
       "      <td>277.0</td>\n",
       "      <td>519.7675</td>\n",
       "      <td>2.0</td>\n",
       "      <td>759.570000</td>\n",
       "      <td>90</td>\n",
       "    </tr>\n",
       "    <tr>\n",
       "      <th>12348.0</th>\n",
       "      <td>2.0</td>\n",
       "      <td>110.0</td>\n",
       "      <td>268.0</td>\n",
       "      <td>297.2200</td>\n",
       "      <td>1.0</td>\n",
       "      <td>310.000000</td>\n",
       "      <td>90</td>\n",
       "    </tr>\n",
       "    <tr>\n",
       "      <th>12352.0</th>\n",
       "      <td>3.0</td>\n",
       "      <td>34.0</td>\n",
       "      <td>206.0</td>\n",
       "      <td>101.5600</td>\n",
       "      <td>3.0</td>\n",
       "      <td>314.743333</td>\n",
       "      <td>90</td>\n",
       "    </tr>\n",
       "    <tr>\n",
       "      <th>12356.0</th>\n",
       "      <td>1.0</td>\n",
       "      <td>80.0</td>\n",
       "      <td>235.0</td>\n",
       "      <td>481.4600</td>\n",
       "      <td>1.0</td>\n",
       "      <td>58.350000</td>\n",
       "      <td>90</td>\n",
       "    </tr>\n",
       "    <tr>\n",
       "      <th>12359.0</th>\n",
       "      <td>3.0</td>\n",
       "      <td>142.0</td>\n",
       "      <td>241.0</td>\n",
       "      <td>970.8100</td>\n",
       "      <td>2.0</td>\n",
       "      <td>1392.800000</td>\n",
       "      <td>90</td>\n",
       "    </tr>\n",
       "  </tbody>\n",
       "</table>\n",
       "</div>"
      ],
      "text/plain": [
       "            frequency_cal  recency_cal  T_cal  monetary_value_cal  \\\n",
       "CustomerID                                                          \n",
       "12347.0               4.0        238.0  277.0            519.7675   \n",
       "12348.0               2.0        110.0  268.0            297.2200   \n",
       "12352.0               3.0         34.0  206.0            101.5600   \n",
       "12356.0               1.0         80.0  235.0            481.4600   \n",
       "12359.0               3.0        142.0  241.0            970.8100   \n",
       "\n",
       "            frequency_holdout  monetary_value_holdout  duration_holdout  \n",
       "CustomerID                                                               \n",
       "12347.0                   2.0              759.570000                90  \n",
       "12348.0                   1.0              310.000000                90  \n",
       "12352.0                   3.0              314.743333                90  \n",
       "12356.0                   1.0               58.350000                90  \n",
       "12359.0                   2.0             1392.800000                90  "
      ]
     },
     "execution_count": 2112,
     "metadata": {},
     "output_type": "execute_result"
    }
   ],
   "source": [
    "print(rfm_train_test.shape)\n",
    "rfm_train_test.head()"
   ]
  },
  {
   "cell_type": "markdown",
   "metadata": {},
   "source": [
    "### Modelling"
   ]
  },
  {
   "cell_type": "markdown",
   "metadata": {},
   "source": [
    "Now, we can use the RFM calibration data to train the models."
   ]
  },
  {
   "cell_type": "code",
   "execution_count": 2113,
   "metadata": {},
   "outputs": [
    {
     "data": {
      "text/plain": [
       "<lifetimes.BetaGeoFitter: fitted with 1965 subjects, a: 0.01, alpha: 45.52, b: 0.17, r: 1.00>"
      ]
     },
     "execution_count": 2113,
     "metadata": {},
     "output_type": "execute_result"
    }
   ],
   "source": [
    "#Train the BG/NBD model\n",
    "bgf = BetaGeoFitter(penalizer_coef=0.1)\n",
    "bgf.fit(rfm_train_test['frequency_cal'], rfm_train_test['recency_cal'], rfm_train_test['T_cal'])"
   ]
  },
  {
   "cell_type": "markdown",
   "metadata": {},
   "source": [
    "To fit Gamma-Gamma model, we first need to make sure that the monetary value and frequency are not correlated as this is one of the basi assumptions of the model."
   ]
  },
  {
   "cell_type": "code",
   "execution_count": 2114,
   "metadata": {},
   "outputs": [
    {
     "data": {
      "text/html": [
       "<div>\n",
       "<style scoped>\n",
       "    .dataframe tbody tr th:only-of-type {\n",
       "        vertical-align: middle;\n",
       "    }\n",
       "\n",
       "    .dataframe tbody tr th {\n",
       "        vertical-align: top;\n",
       "    }\n",
       "\n",
       "    .dataframe thead th {\n",
       "        text-align: right;\n",
       "    }\n",
       "</style>\n",
       "<table border=\"1\" class=\"dataframe\">\n",
       "  <thead>\n",
       "    <tr style=\"text-align: right;\">\n",
       "      <th></th>\n",
       "      <th>monetary_value_cal</th>\n",
       "      <th>frequency_cal</th>\n",
       "    </tr>\n",
       "  </thead>\n",
       "  <tbody>\n",
       "    <tr>\n",
       "      <th>monetary_value_cal</th>\n",
       "      <td>1.00000</td>\n",
       "      <td>0.15412</td>\n",
       "    </tr>\n",
       "    <tr>\n",
       "      <th>frequency_cal</th>\n",
       "      <td>0.15412</td>\n",
       "      <td>1.00000</td>\n",
       "    </tr>\n",
       "  </tbody>\n",
       "</table>\n",
       "</div>"
      ],
      "text/plain": [
       "                    monetary_value_cal  frequency_cal\n",
       "monetary_value_cal             1.00000        0.15412\n",
       "frequency_cal                  0.15412        1.00000"
      ]
     },
     "execution_count": 2114,
     "metadata": {},
     "output_type": "execute_result"
    }
   ],
   "source": [
    "#Train Gamma-Gamma\n",
    "rfm_train_test[['monetary_value_cal', 'frequency_cal']].corr()"
   ]
  },
  {
   "cell_type": "markdown",
   "metadata": {},
   "source": [
    "They are not, so we can continue with fitting"
   ]
  },
  {
   "cell_type": "code",
   "execution_count": 2115,
   "metadata": {},
   "outputs": [
    {
     "data": {
      "text/plain": [
       "<lifetimes.GammaGammaFitter: fitted with 1965 subjects, p: 1.29, q: 3.71, v: 708.57>"
      ]
     },
     "execution_count": 2115,
     "metadata": {},
     "output_type": "execute_result"
    }
   ],
   "source": [
    "ggf = GammaGammaFitter(penalizer_coef = 0)\n",
    "ggf.fit(rfm_train_test['frequency_cal'],\n",
    "        rfm_train_test['monetary_value_cal'])\n"
   ]
  },
  {
   "cell_type": "markdown",
   "metadata": {},
   "source": [
    "### Prediction"
   ]
  },
  {
   "cell_type": "markdown",
   "metadata": {},
   "source": [
    "Prediction is done in three steps:\n",
    "1. Predict the expected number of transactions\n",
    "2. Predict the average order value\n",
    "3. Multiply number of transations by the average order value"
   ]
  },
  {
   "cell_type": "code",
   "execution_count": 2116,
   "metadata": {},
   "outputs": [],
   "source": [
    "#Predict the expected number of transactions in the next 89 days\n",
    "predicted_bgf = bgf.predict(89,\n",
    "                        rfm_train_test['frequency_cal'], \n",
    "                        rfm_train_test['recency_cal'], \n",
    "                        rfm_train_test['T_cal'])\n",
    "trans_pred = predicted_bgf.fillna(0)\n",
    "\n",
    "#Predict the average order value\n",
    "monetary_pred = ggf.conditional_expected_average_profit(rfm_train_test['frequency_cal'],\n",
    "                                        rfm_train_test['monetary_value_cal'])\n",
    "\n",
    "#Putting it all together\n",
    "sales_pred = trans_pred * monetary_pred"
   ]
  },
  {
   "cell_type": "markdown",
   "metadata": {},
   "source": [
    "### Evaluation"
   ]
  },
  {
   "cell_type": "code",
   "execution_count": 2118,
   "metadata": {},
   "outputs": [],
   "source": [
    "actual = rfm_train_test['monetary_value_holdout'] *  rfm_train_test['frequency_holdout']"
   ]
  },
  {
   "cell_type": "code",
   "execution_count": 2119,
   "metadata": {},
   "outputs": [],
   "source": [
    "def evaluate(actual, sales_prediction):\n",
    "    print(f\"Total Sales Actual: {np.round(actual.sum())}\")\n",
    "    print(f\"Total Sales Predicted: {np.round(sales_prediction.sum())}\")\n",
    "    print(f\"Individual R2 score: {r2_score(actual, sales_prediction)} \")\n",
    "    print(f\"Individual Mean Absolute Error: {mean_absolute_error(actual, sales_prediction)}\")\n",
    "    plt.scatter(sales_prediction, actual)\n",
    "    plt.xlabel('Prediction')\n",
    "    plt.ylabel('Actual')      \n",
    "    plt.show()\n",
    "      "
   ]
  },
  {
   "cell_type": "code",
   "execution_count": 2120,
   "metadata": {},
   "outputs": [
    {
     "name": "stdout",
     "output_type": "stream",
     "text": [
      "Total Sales Actual: 1742804.0\n",
      "Total Sales Predicted: 1397434.0\n",
      "Individual R2 score: 0.6691278084377583 \n",
      "Individual Mean Absolute Error: 556.7639109686517\n"
     ]
    },
    {
     "data": {
      "image/png": "[encoded data removed]",
      "text/plain": [
       "<Figure size 720x504 with 1 Axes>"
      ]
     },
     "metadata": {
      "needs_background": "light"
     },
     "output_type": "display_data"
    }
   ],
   "source": [
    "evaluate(actual, sales_pred)"
   ]
  },
  {
   "cell_type": "markdown",
   "metadata": {},
   "source": [
    "It seems like the model does a fairly good job at predicting the customer's revenue for the next 3 months. Let's take a look if we can get similar performance from the Machine Learning approach."
   ]
  },
  {
   "cell_type": "markdown",
   "metadata": {},
   "source": [
    "## ML Approach"
   ]
  },
  {
   "cell_type": "markdown",
   "metadata": {},
   "source": [
    "This approach differs from statistical one, in a sense that it doesn't fit a distribution for latent parameters, but models the conditional expectations explicitly. I'm going to be using a small Deep Neural Network because it does quite a good job at implicit feature engineering and models the interaction effects quite nicely. I'm going to split my work into 3 parts:\n",
    "1. Feature engineering for train and test periods\n",
    "2. Modelling\n",
    "3. Evaluation"
   ]
  },
  {
   "cell_type": "markdown",
   "metadata": {},
   "source": [
    "### Feature Engineering\n",
    "The possibility to include additional features into the model besides the RFM is the greates advantage of this approach. However, it's also the main limitation as **your model is going to be only as good as your features**. So, make sure to spend a lot of time on this section, and experiment yourselve to find the best features.  "
   ]
  },
  {
   "cell_type": "code",
   "execution_count": 2121,
   "metadata": {},
   "outputs": [],
   "source": [
    "def get_features(data, feature_start, feature_end, target_start, target_end):\n",
    "    \"\"\"\n",
    "    Function that outputs the features and targets on the user-level.\n",
    "    Inputs:\n",
    "        * data - a dataframe with raw data\n",
    "        * feature_start - a string start date of feature period\n",
    "        * feature_end - a  string end date of feature period\n",
    "        * target_start - a  string start date of target period\n",
    "        * target_end - a  string end date of target period\n",
    "    \"\"\"\n",
    "    features_data = data.loc[(data.date >= feature_start) & (data.date <= feature_end), :]\n",
    "    print(f'Using data from {(pd.to_datetime(feature_end) - pd.to_datetime(feature_start)).days} days')\n",
    "    print(f'To predict {(pd.to_datetime(target_end) - pd.to_datetime(target_start)).days} days')\n",
    "    \n",
    "    #Transactions data features\n",
    "    total_rev = features_data.groupby('CustomerID')['Revenue'].sum().rename('total_revenue')\n",
    "    recency = (features_data.groupby('CustomerID')['date'].max() - features_data.groupby('CustomerID')['date'].min()).apply(lambda x: x.days).rename('recency')\n",
    "    frequency = features_data.groupby('CustomerID')['InvoiceNo'].count().rename('frequency')\n",
    "    t = features_data.groupby('CustomerID')['date'].min().apply(lambda x: (datetime(2011, 6, 11) - x).days).rename('t')\n",
    "    time_between = (t / frequency).rename('time_between')\n",
    "    avg_basket_value = (total_rev / frequency).rename('avg_basket_value')\n",
    "    avg_basket_size = (features_data.groupby('CustomerID')['Quantity'].sum() / frequency).rename('avg_basket_Size')\n",
    "    returns = features_data.loc[features_data['Revenue'] < 0, :].groupby('CustomerID')['InvoiceNo'].count().rename('num_returns')\n",
    "    hour = features_data.groupby('CustomerID')['hour'].median().rename('purchase_hour_med')\n",
    "    dow = features_data.groupby('CustomerID')['dayofweek'].median().rename('purchase_dow_med')\n",
    "    weekend =  features_data.groupby('CustomerID')['weekend'].mean().rename('purchase_weekend_prop')\n",
    "    train_data = pd.DataFrame(index = rfm_train.index)\n",
    "    train_data = train_data.join([total_rev, recency, frequency, t, time_between, avg_basket_value, avg_basket_size, returns, hour, dow, weekend])\n",
    "    train_data = train_data.fillna(0)\n",
    "    \n",
    "    #Target data\n",
    "    target_data = data.loc[(data.date >= target_start) & (data.date <= target_end), :]\n",
    "    target_quant = target_data.groupby(['CustomerID'])['date'].nunique()\n",
    "    target_rev = target_data.groupby(['CustomerID'])['Revenue'].sum().rename('target_rev')\n",
    "    train_data = train_data.join(target_rev).fillna(0)\n",
    "    \n",
    "    return train_data.iloc[:, :-1], train_data.iloc[:, -1]"
   ]
  },
  {
   "cell_type": "code",
   "execution_count": 2122,
   "metadata": {},
   "outputs": [
    {
     "name": "stdout",
     "output_type": "stream",
     "text": [
      "Using data from 161 days\n",
      "To predict 89 days\n"
     ]
    }
   ],
   "source": [
    "X_train, y_train = get_features(data, '2011-01-01', '2011-06-11', '2011-06-12', '2011-09-09')"
   ]
  },
  {
   "cell_type": "code",
   "execution_count": 2124,
   "metadata": {},
   "outputs": [
    {
     "name": "stdout",
     "output_type": "stream",
     "text": [
      "Using data from 161 days\n",
      "To predict 89 days\n"
     ]
    }
   ],
   "source": [
    "X_test, y_test = get_features(data, '2011-04-02', '2011-09-10', '2011-09-11', '2011-12-09')"
   ]
  },
  {
   "cell_type": "markdown",
   "metadata": {},
   "source": [
    "### Modelling\n",
    "Here, I'm going to use a Keras API to Tensorflow to build a simple DNN. Architecture here doesn't really matter because the problem is simple and small enough. However, if you have more data, make sure to fine tune the model. Start small, and see if the performance increases as the complexity increases."
   ]
  },
  {
   "cell_type": "code",
   "execution_count": 2193,
   "metadata": {},
   "outputs": [],
   "source": [
    "#DNN\n",
    "def build_model():\n",
    "    model = keras.Sequential([\n",
    "    layers.Dense(32, activation='relu', input_shape=[len(X_train.columns), ]),\n",
    "    layers.Dropout(0.3),\n",
    "    layers.Dense(32, activation='relu'),\n",
    "    layers.Dense(1)\n",
    "    ])\n",
    "\n",
    "    optimizer = tf.keras.optimizers.Adam(0.001)\n",
    "\n",
    "    model.compile(loss='mse',\n",
    "            optimizer=optimizer,\n",
    "            metrics=['mae', 'mse'])\n",
    "    \n",
    "    return model\n",
    "\n",
    "# The patience parameter is the amount of epochs to check for improvement\n",
    "early_stop = keras.callbacks.EarlyStopping(monitor='val_loss', patience=20)"
   ]
  },
  {
   "cell_type": "code",
   "execution_count": 2194,
   "metadata": {},
   "outputs": [
    {
     "name": "stdout",
     "output_type": "stream",
     "text": [
      "\n",
      "Epoch: 0, loss:3805029.8818,  mae:463.9247,  mse:3805030.0000,  val_loss:3792055.2353,  val_mae:465.9664,  val_mse:3792055.0000,  \n",
      "......................."
     ]
    }
   ],
   "source": [
    "model = build_model()\n",
    "early_history = model.fit(X_train, y_train, \n",
    "                    epochs=EPOCHS, validation_split = 0.2, verbose=0, \n",
    "                    callbacks=[early_stop, tfdocs.modeling.EpochDots()])"
   ]
  },
  {
   "cell_type": "markdown",
   "metadata": {},
   "source": [
    "## Evaluation"
   ]
  },
  {
   "cell_type": "markdown",
   "metadata": {},
   "source": [
    "Let's see how well the model can predict the 3 next 3 months which it has never seen before. We're going to use data from the most recent period (X_test) to make sure that our forecast is as accurate as possible."
   ]
  },
  {
   "cell_type": "code",
   "execution_count": 2195,
   "metadata": {},
   "outputs": [],
   "source": [
    "#Predicting\n",
    "dnn_preds = model.predict(X_test).ravel()"
   ]
  },
  {
   "cell_type": "code",
   "execution_count": 2196,
   "metadata": {},
   "outputs": [
    {
     "name": "stdout",
     "output_type": "stream",
     "text": [
      "Total Sales Actual: 2290775.0\n",
      "Total Sales Predicted: 1177451.0\n",
      "Individual R2 score: 0.5391397893676604 \n",
      "Individual Mean Absolute Error: 620.0541130061874\n"
     ]
    },
    {
     "data": {
      "image/png": "[encoded data removed]",
      "text/plain": [
       "<Figure size 720x504 with 1 Axes>"
      ]
     },
     "metadata": {
      "needs_background": "light"
     },
     "output_type": "display_data"
    }
   ],
   "source": [
    "#Putting the actual and predictions into the same datarame for later comparison\n",
    "compare_df = pd.DataFrame(index=X_test.index)\n",
    "compare_df['dnn_preds'] = dnn_preds\n",
    "compare_df = compare_df.join(sales_pred.rename('stat_pred')).fillna(0)\n",
    "compare_df['actual'] = y_test\n",
    "\n",
    "evaluate(compare_df['actual'], compare_df['dnn_preds'])"
   ]
  },
  {
   "cell_type": "markdown",
   "metadata": {},
   "source": [
    "We can see that the model is fairly accurate with mean absolute error comparable to the BG/NBD. Total predicted sales are a bit off, but this is largely due to the significant outliers. Let's now attempt to compare the two models"
   ]
  },
  {
   "cell_type": "markdown",
   "metadata": {},
   "source": [
    "## Comparison"
   ]
  },
  {
   "cell_type": "markdown",
   "metadata": {},
   "source": [
    "I'll attempt to compare the performance of DNN and BG/NBD models by looking at:\n",
    "1. How well do they fit the non-outlier distribution\n",
    "2. How much revenue do the top 20% of CLV customers generate\n",
    "\n",
    "It should be noted that the datasets to train the models do differ a bit. E.g. some customer IDs had to be dropped because of their returns so the expected value was replaced by 0 in BG/NBD. Still, I'm not looking at the prediction on the user level but at the aggregate so this should not affect the evaluation. "
   ]
  },
  {
   "cell_type": "code",
   "execution_count": 2197,
   "metadata": {},
   "outputs": [
    {
     "data": {
      "image/png": "[encoded data removed]",
      "text/plain": [
       "<Figure size 720x504 with 1 Axes>"
      ]
     },
     "metadata": {
      "needs_background": "light"
     },
     "output_type": "display_data"
    }
   ],
   "source": [
    "#First 98% of data\n",
    "no_out = compare_df.loc[(compare_df['actual'] <= np.quantile(compare_df['actual'], 0.985)), :]\n",
    "\n",
    "sns.distplot(no_out['actual'])\n",
    "sns.distplot(no_out['dnn_preds'])\n",
    "plt.title('Actual vs DNN Predictions')\n",
    "plt.show()"
   ]
  },
  {
   "cell_type": "code",
   "execution_count": 2198,
   "metadata": {},
   "outputs": [
    {
     "data": {
      "image/png": "[encoded data removed]",
      "text/plain": [
       "<Figure size 720x504 with 1 Axes>"
      ]
     },
     "metadata": {
      "needs_background": "light"
     },
     "output_type": "display_data"
    }
   ],
   "source": [
    "sns.distplot(no_out['actual'])\n",
    "sns.distplot(no_out['stat_pred'])\n",
    "plt.title('Actual vs BG/NBD Predictions')\n",
    "plt.show()"
   ]
  },
  {
   "cell_type": "markdown",
   "metadata": {},
   "source": [
    "It looks like both models correctly model the revenue as heavily skewed with long tail. Nevertheless, DNN seems to better fit the data as it doesn't have this second spike. Let's now look at the revenue of top 20%."
   ]
  },
  {
   "cell_type": "code",
   "execution_count": 2219,
   "metadata": {},
   "outputs": [
    {
     "name": "stdout",
     "output_type": "stream",
     "text": [
      "Selecting the first 517 users\n",
      "Top 20% selected by DNN have generated 1609513.0\n",
      "Top 20% selected by BG/NBD and Gamma Gamma have generated 1603379.0\n",
      "Thats 6134.0 of marginal revenue\n"
     ]
    }
   ],
   "source": [
    "top_n = int(np.round(compare_df.shape[0] * 0.2))\n",
    "print(f'Selecting the first {top_n} users')\n",
    "\n",
    "#Selecting IDs\n",
    "dnn_ids = compare_df['dnn_preds'].sort_values(ascending=False).index[:top_n].values\n",
    "stat_ids = compare_df['stat_pred'].sort_values(ascending=False).index[:top_n].values\n",
    "\n",
    "#Filtering the data\n",
    "eval_subset = data.loc[data.date >= '2011-09-10', :]\n",
    "\n",
    "#Sums\n",
    "dnn_rev = eval_subset.loc[eval_subset.CustomerID.isin(dnn_ids), 'Revenue'].sum() \n",
    "stat_rev = eval_subset.loc[eval_subset.CustomerID.isin(stat_ids), 'Revenue'].sum()\n",
    "\n",
    "\n",
    "print(f'Top 20% selected by DNN have generated {np.round(dnn_rev)}')\n",
    "print(f'Top 20% selected by BG/NBD and Gamma Gamma have generated {np.round(stat_rev)}')\n",
    "print(f'Thats {np.round(dnn_rev - stat_rev)} of marginal revenue')"
   ]
  },
  {
   "cell_type": "markdown",
   "metadata": {},
   "source": [
    "The difference is only 6,134 which is quite insignificant. Hence, both methods are able to effectively pick the top 20% of most valuable customers which is not suprising, given that we've used only the transactions data in our DNN model. What about the first 10%?"
   ]
  },
  {
   "cell_type": "code",
   "execution_count": 2220,
   "metadata": {},
   "outputs": [
    {
     "name": "stdout",
     "output_type": "stream",
     "text": [
      "Selecting the first 258 users\n",
      "Top 20% selected by DNN have generated 1324015.0\n",
      "Top 20% selected by BG/NBD and Gamma Gamma have generated 1341646.0\n",
      "Thats -17631.0 of marginal revenue\n"
     ]
    }
   ],
   "source": [
    "top_n = int(np.round(compare_df.shape[0] * 0.1))\n",
    "print(f'Selecting the first {top_n} users')\n",
    "\n",
    "#Selecting IDs\n",
    "dnn_ids = compare_df['dnn_preds'].sort_values(ascending=False).index[:top_n].values\n",
    "stat_ids = compare_df['stat_pred'].sort_values(ascending=False).index[:top_n].values\n",
    "\n",
    "#Filtering the data\n",
    "eval_subset = data.loc[data.date >= '2011-09-10', :]\n",
    "\n",
    "#Sums\n",
    "dnn_rev = eval_subset.loc[eval_subset.CustomerID.isin(dnn_ids), 'Revenue'].sum() \n",
    "stat_rev = eval_subset.loc[eval_subset.CustomerID.isin(stat_ids), 'Revenue'].sum()\n",
    "\n",
    "\n",
    "print(f'Top 20% selected by DNN have generated {np.round(dnn_rev)}')\n",
    "print(f'Top 20% selected by BG/NBD and Gamma Gamma have generated {np.round(stat_rev)}')\n",
    "print(f'Thats {np.round(dnn_rev - stat_rev)} of marginal revenue')"
   ]
  },
  {
   "cell_type": "markdown",
   "metadata": {},
   "source": [
    "With the first 10%, the DNN model is actually worse but also by only a small percentage (1.3%). Hence, the conclusion from this experiment and comparison is - **Given only the transactions data, both DNN's performance is similar to the BG/NBD + Gamma-Gamma approach**. "
   ]
  }
 ],
 "metadata": {
  "kernelspec": {
   "display_name": "Python 3",
   "language": "python",
   "name": "python3"
  },
  "language_info": {
   "codemirror_mode": {
    "name": "ipython",
    "version": 3
   },
   "file_extension": ".py",
   "mimetype": "text/x-python",
   "name": "python",
   "nbconvert_exporter": "python",
   "pygments_lexer": "ipython3",
   "version": "3.6.9"
  }
 },
 "nbformat": 4,
 "nbformat_minor": 2
}
